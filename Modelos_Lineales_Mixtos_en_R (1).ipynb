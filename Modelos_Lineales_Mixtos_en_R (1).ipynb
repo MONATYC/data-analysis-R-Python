{
 "cells": [
  {
   "cell_type": "markdown",
   "metadata": {},
   "source": [
    "# Modelos Lineales Mixtos en R\n",
    "\n",
    "## Índice\n",
    "1. [Introducción](#intro)\n",
    "2. [Configuración del Entorno](#setup)\n",
    "3. [Conceptos Fundamentales](#concepts)\n",
    "4. [Análisis con Distribución Normal](#normal)\n",
    "5. [Análisis con Distribución de Poisson](#poisson)\n",
    "6. [Análisis con Distribución Binomial Negativa](#negative-binomial)\n",
    "7. [Análisis con Distribución Cero-Inflada](#zero-inflated)\n",
    "8. [Pruebas Post Hoc y Efectos Marginales](#post-hoc)\n",
    "9. [Conclusiones](#conclusions)\n",
    "10. [Referencias](#references)"
   ]
  },
  {
   "cell_type": "markdown",
   "metadata": {},
   "source": [
    "## 1. Introducción <a name=\"intro\"></a>\n",
    "\n",
    "Los modelos lineales mixtos son herramientas estadísticas poderosas para analizar datos que presentan estructuras complejas, como medidas repetidas o datos jerárquicos. En este documento, exploraremos cómo implementar y interpretar estos modelos en R, utilizando diferentes distribuciones de datos: normal, Poisson, binomial negativa y cero-inflada."
   ]
  },
  {
   "cell_type": "markdown",
   "metadata": {},
   "source": [
    "## 2. Configuración del Entorno <a name=\"setup\"></a>\n",
    "\n",
    "Primero, instalamos y cargamos las librerías necesarias:"
   ]
  },
  {
   "cell_type": "code",
   "execution_count": 2,
   "metadata": {
    "vscode": {
     "languageId": "r"
    }
   },
   "outputs": [
    {
     "name": "stderr",
     "output_type": "stream",
     "text": [
      "also installing the dependencies ‘rprojroot’, ‘rstudioapi’, ‘diffobj’, ‘rematch2’, ‘brio’, ‘callr’, ‘desc’, ‘pkgload’, ‘praise’, ‘processx’, ‘ps’, ‘waldo’, ‘testthat’, ‘colorspace’, ‘minqa’, ‘nloptr’, ‘Rcpp’, ‘zoo’, ‘farver’, ‘labeling’, ‘munsell’, ‘R6’, ‘RColorBrewer’, ‘viridisLite’, ‘ellipsis’, ‘magrittr’, ‘pkgconfig’, ‘TMB’, ‘lme4’, ‘numDeriv’, ‘RcppEigen’, ‘estimability’, ‘mvtnorm’, ‘xtable’, ‘TH.data’, ‘sandwich’, ‘gtable’, ‘isoband’, ‘scales’, ‘tibble’, ‘withr’\n",
      "\n",
      "\n",
      "also installing the dependency ‘RcppEigen’\n",
      "\n",
      "\n"
     ]
    }
   ],
   "source": [
    "# Crear un directorio en tu espacio de usuario para los paquetes de R\n",
    "dir.create('~/R/x86_64-pc-linux-gnu-library/4.0', recursive = TRUE)\n",
    "\n",
    "# Instalar los paquetes en ese directorio\n",
    "install.packages(c(\"nlme\", \"glmmTMB\", \"emmeans\", \"multcomp\", \"MASS\", \"ggplot2\", \"patchwork\"), lib = '~/R/x86_64-pc-linux-gnu-library/4.0')\n",
    "install.packages('lme4', repos='http://cran.rstudio.com/', lib = '~/R/x86_64-pc-linux-gnu-library/4.0')\n",
    "install.packages(\"TMB\", type = \"source\", lib = '~/R/x86_64-pc-linux-gnu-library/4.0')\n",
    "\n",
    "# Asegurarse de que R use el directorio local para los paquetes\n",
    ".libPaths('~/R/x86_64-pc-linux-gnu-library/4.0')\n",
    "\n"
   ]
  },
  {
   "cell_type": "code",
   "execution_count": 3,
   "metadata": {
    "vscode": {
     "languageId": "r"
    }
   },
   "outputs": [
    {
     "name": "stderr",
     "output_type": "stream",
     "text": [
      "Loading required package: Matrix\n",
      "\n",
      "\n",
      "Attaching package: ‘nlme’\n",
      "\n",
      "\n",
      "The following object is masked from ‘package:lme4’:\n",
      "\n",
      "    lmList\n",
      "\n",
      "\n",
      "Warning message in checkMatrixPackageVersion():\n",
      "“Package version inconsistency detected.\n",
      "TMB was built with Matrix version 1.4.0\n",
      "Current Matrix version is 1.3.4\n",
      "Please re-install 'TMB' from source using install.packages('TMB', type = 'source') or ask CRAN for a binary version of 'TMB' matching CRAN's 'Matrix' package”\n",
      "Loading required package: mvtnorm\n",
      "\n",
      "Loading required package: survival\n",
      "\n",
      "Loading required package: TH.data\n",
      "\n",
      "Loading required package: MASS\n",
      "\n",
      "\n",
      "Attaching package: ‘TH.data’\n",
      "\n",
      "\n",
      "The following object is masked from ‘package:MASS’:\n",
      "\n",
      "    geyser\n",
      "\n",
      "\n",
      "\n",
      "Attaching package: ‘patchwork’\n",
      "\n",
      "\n",
      "The following object is masked from ‘package:MASS’:\n",
      "\n",
      "    area\n",
      "\n",
      "\n"
     ]
    }
   ],
   "source": [
    "\n",
    "\n",
    "# Carga de librerías\n",
    ".libPaths(c(\"/home/docker/R/x86_64-pc-linux-gnu-library/4.1\", .libPaths()))\n",
    "library(lme4)        # Modelos lineales mixtos\n",
    "#lme4::lmList\n",
    "library(nlme)        # Modelos lineales y no lineales mixtos\n",
    "library(glmmTMB)     # Modelos mixtos con distribuciones avanzadas\n",
    "library(emmeans)     # Estimación de medias marginales\n",
    "library(multcomp)    # Comparaciones múltiples\n",
    "library(MASS)        # Funciones estadísticas adicionales\n",
    "#MASS::geyser\n",
    "library(ggplot2)     # Visualización de datos\n",
    "library(patchwork)   # Combinación de gráficos\n",
    "#patchwork::area"
   ]
  },
  {
   "cell_type": "markdown",
   "metadata": {},
   "source": [
    "## 3. Conceptos Fundamentales <a name=\"concepts\"></a>\n",
    "\n",
    "> **Nota:** Los modelos lineales mixtos (MLM) combinan efectos fijos y aleatorios para capturar tanto las relaciones sistemáticas como la variabilidad no explicada en los datos.\n",
    "\n",
    "La elección de la distribución adecuada es crucial para modelar correctamente los datos, incluyendo distribuciones normal, Poisson, binomial negativa y cero-inflada."
   ]
  },
  {
   "cell_type": "markdown",
   "metadata": {},
   "source": [
    "## 4. Análisis con Distribución Normal <a name=\"normal\"></a>\n",
    "\n",
    "En este análisis, ajustamos un modelo lineal mixto utilizando la distribución normal para modelar variables continuas. Por ejemplo, podemos estudiar cómo un programa educativo afecta los puntajes de los estudiantes."
   ]
  },
  {
   "cell_type": "code",
   "execution_count": 4,
   "metadata": {
    "vscode": {
     "languageId": "r"
    }
   },
   "outputs": [
    {
     "ename": "ERROR",
     "evalue": "Error: bad 'data': object 'data_normal' not found\n",
     "output_type": "error",
     "traceback": [
      "Error: bad 'data': object 'data_normal' not found\nTraceback:\n",
      "1. eval(mc, parent.frame(1L))",
      "2. eval(mc, parent.frame(1L))",
      "3. lme4::lFormula(formula = score ~ program + (1 | school), data = data_normal, \n .     control = structure(list(optimizer = \"nloptwrap\", restart_edge = TRUE, \n .         boundary.tol = 1e-05, calc.derivs = TRUE, use.last.params = FALSE, \n .         checkControl = list(check.nobs.vs.rankZ = \"ignore\", check.nobs.vs.nlev = \"stop\", \n .             check.nlev.gtreq.5 = \"ignore\", check.nlev.gtr.1 = \"stop\", \n .             check.nobs.vs.nRE = \"stop\", check.rankX = \"message+drop.cols\", \n .             check.scaleX = \"warning\", check.formula.LHS = \"stop\"), \n .         checkConv = list(check.conv.grad = list(action = \"warning\", \n .             tol = 0.002, relTol = NULL), check.conv.singular = list(\n .             action = \"message\", tol = 1e-04), check.conv.hess = list(\n .             action = \"warning\", tol = 1e-06)), optCtrl = list()), class = c(\"lmerControl\", \n .     \"merControl\")))",
      "4. checkFormulaData(formula, data, checkLHS = control$check.formula.LHS == \n .     \"stop\")",
      "5. stop(\"bad 'data': \", bad.data.msg, call. = FALSE)",
      "6. .handleSimpleError(function (cnd) \n . {\n .     watcher$capture_plot_and_output()\n .     cnd <- sanitize_call(cnd)\n .     watcher$push(cnd)\n .     switch(on_error, continue = invokeRestart(\"eval_continue\"), \n .         stop = invokeRestart(\"eval_stop\"), error = invokeRestart(\"eval_error\", \n .             cnd))\n . }, \"bad 'data': object 'data_normal' not found\", base::quote(NULL))"
     ]
    }
   ],
   "source": [
    "# Ajuste del modelo\n",
    "model_normal <- lmer(score ~ program + (1 | school), data = data_normal)\n",
    "\n",
    "# Resumen del modelo\n",
    "summary(model_normal)"
   ]
  },
  {
   "cell_type": "markdown",
   "metadata": {},
   "source": [
    "Interpretación: El coeficiente asociado al programa indica si hubo un efecto significativo del programa experimental en comparación con el grupo de control."
   ]
  },
  {
   "cell_type": "markdown",
   "metadata": {},
   "source": [
    "## 5. Análisis con Distribución de Poisson <a name=\"poisson\"></a>\n",
    "\n",
    "La distribución de Poisson se utiliza para modelar conteos de eventos. Aquí se muestra cómo ajustar un modelo utilizando esta distribución para analizar, por ejemplo, el número de defectos en una línea de producción."
   ]
  },
  {
   "cell_type": "code",
   "execution_count": null,
   "metadata": {
    "vscode": {
     "languageId": "r"
    }
   },
   "outputs": [],
   "source": [
    "# Ajuste del modelo de Poisson\n",
    "model_poisson <- glmer(defects ~ hours + (1 | machine), family = poisson, data = data_poisson)\n",
    "\n",
    "# Resumen del modelo\n",
    "summary(model_poisson)"
   ]
  },
  {
   "cell_type": "markdown",
   "metadata": {},
   "source": [
    "Interpretación: El modelo nos permite evaluar cómo las horas de operación afectan el número de defectos observados."
   ]
  },
  {
   "cell_type": "markdown",
   "metadata": {},
   "source": [
    "## 6. Análisis con Distribución Binomial Negativa <a name=\"negative-binomial\"></a>\n",
    "\n",
    "La distribución binomial negativa es útil cuando existe sobredispersión en los datos de conteo. Ajustamos un modelo binomial negativo para mejorar el ajuste respecto a un modelo de Poisson."
   ]
  },
  {
   "cell_type": "code",
   "execution_count": null,
   "metadata": {
    "vscode": {
     "languageId": "r"
    }
   },
   "outputs": [],
   "source": [
    "# Ajuste del modelo binomial negativo\n",
    "model_negbin <- glmer.nb(defects ~ hours + (1 | machine), data = data_poisson)\n",
    "\n",
    "# Resumen del modelo\n",
    "summary(model_negbin)"
   ]
  },
  {
   "cell_type": "markdown",
   "metadata": {},
   "source": [
    "Interpretación: Este modelo permite manejar mejor la variabilidad adicional presente en los datos de conteo."
   ]
  },
  {
   "cell_type": "markdown",
   "metadata": {},
   "source": [
    "## 7. Análisis con Distribución Cero-Inflada <a name=\"zero-inflated\"></a>\n",
    "\n",
    "En algunos casos, los datos de conteo contienen un exceso de ceros. La distribución cero-inflada nos permite modelar estos datos de manera más precisa. Por ejemplo, el número de visitas a un sitio web donde muchos usuarios no visitan el sitio."
   ]
  },
  {
   "cell_type": "code",
   "execution_count": null,
   "metadata": {
    "vscode": {
     "languageId": "r"
    }
   },
   "outputs": [],
   "source": [
    "# Ajuste del modelo cero-inflado\n",
    "model_zero_inflated <- glmmTMB(visits ~ 1, ziformula = ~1, family = poisson, data = data_zero_inflated)\n",
    "\n",
    "# Resumen del modelo\n",
    "summary(model_zero_inflated)"
   ]
  },
  {
   "cell_type": "markdown",
   "metadata": {},
   "source": [
    "Interpretación: El modelo incluye un componente para el exceso de ceros, permitiendo una mejor representación de los datos."
   ]
  },
  {
   "cell_type": "markdown",
   "metadata": {},
   "source": [
    "## 8. Pruebas Post Hoc y Efectos Marginales <a name=\"post-hoc\"></a>\n",
    "\n",
    "Las pruebas post hoc y los efectos marginales son útiles para interpretar los resultados de los modelos y realizar comparaciones entre grupos. Utilizamos la librería `emmeans` para estimar medias marginales y realizar comparaciones múltiples."
   ]
  },
  {
   "cell_type": "code",
   "execution_count": null,
   "metadata": {
    "vscode": {
     "languageId": "r"
    }
   },
   "outputs": [],
   "source": [
    "# Medias marginales para el modelo normal\n",
    "emmeans_normal <- emmeans(model_normal, ~ program)\n",
    "\n",
    "# Comparaciones múltiples\n",
    "contrast(emmeans_normal, method = \"pairwise\", adjust = \"tukey\")"
   ]
  },
  {
   "cell_type": "markdown",
   "metadata": {},
   "source": [
    "Interpretación: Estas pruebas nos ayudan a entender mejor las diferencias entre los grupos después del ajuste del modelo."
   ]
  },
  {
   "cell_type": "markdown",
   "metadata": {},
   "source": [
    "## 9. Conclusiones <a name=\"conclusions\"></a>\n",
    "\n",
    "En este documento, hemos explorado cómo aplicar modelos lineales mixtos en R utilizando diferentes distribuciones de datos. Cada distribución tiene sus propias características y es importante seleccionar la adecuada para modelar correctamente los datos.\n",
    "\n",
    "Los modelos lineales mixtos nos permiten capturar tanto efectos fijos como aleatorios, proporcionando una comprensión más completa de los datos jerárquicos o con medidas repetidas."
   ]
  },
  {
   "cell_type": "markdown",
   "metadata": {},
   "source": [
    "## 10. Referencias <a name=\"references\"></a>\n",
    "\n",
    "- Pinheiro, J. C., & Bates, D. M. (2000). *Mixed-Effects Models in S and S-PLUS*. Springer.\n",
    "- Gelman, A., & Hill, J. (2007). *Data Analysis Using Regression and Multilevel/Hierarchical Models*. Cambridge University Press.\n",
    "- [Librería lme4](https://cran.r-project.org/web/packages/lme4/index.html)\n",
    "- [Librería glmmTMB](https://cran.r-project.org/web/packages/glmmTMB/index.html)\n",
    "- [Vignettes de emmeans](https://cran.r-project.org/web/packages/emmeans/vignettes/emmeans.html)"
   ]
  }
 ],
 "metadata": {
  "kernelspec": {
   "display_name": "R",
   "language": "R",
   "name": "ir"
  },
  "language_info": {
   "codemirror_mode": "r",
   "file_extension": ".r",
   "mimetype": "text/x-r-source",
   "name": "R",
   "pygments_lexer": "r",
   "version": "4.1.2"
  }
 },
 "nbformat": 4,
 "nbformat_minor": 4
}
