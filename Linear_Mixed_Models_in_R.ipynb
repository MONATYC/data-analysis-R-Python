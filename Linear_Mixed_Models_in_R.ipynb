{
 "cells": [
  {
   "cell_type": "markdown",
   "metadata": {},
   "source": [
    "# Linear Mixed Models in R\n",
    "\n",
    "## Table of Contents\n",
    "1. [Introduction](#intro)\n",
    "2. [Environment Setup](#setup)\n",
    "3. [Fundamental Concepts](#concepts)\n",
    "4. [Analysis with Normal Distribution](#normal)\n",
    "5. [Analysis with Poisson Distribution](#poisson)\n",
    "6. [Analysis with Negative Binomial Distribution](#negative-binomial)\n",
    "7. [Analysis with Zero-Inflated Distribution](#zero-inflated)\n",
    "8. [Post Hoc Tests and Marginal Effects](#post-hoc)\n",
    "9. [Conclusions](#conclusions)\n",
    "10. [References](#references)"
   ]
  },
  {
   "cell_type": "markdown",
   "metadata": {},
   "source": [
    "## 1. Introduction <a name=\"intro\"></a>\n",
    "\n",
    "Linear mixed models are powerful statistical tools for analyzing data with complex structures, such as repeated measures or hierarchical data. In this document, we will explore how to implement and interpret these models in R using different data distributions: normal, Poisson, negative binomial, and zero-inflated."
   ]
  },
  {
   "cell_type": "markdown",
   "metadata": {},
   "source": [
    "## 2. Environment Setup <a name=\"setup\"></a>\n",
    "\n",
    "First, install and load the required libraries:"
   ]
  },
  {
   "cell_type": "code",
   "execution_count": 2,
   "metadata": {
    "vscode": {
     "languageId": "r"
    }
   },
   "outputs": [
    {
     "name": "stderr",
     "output_type": "stream",
     "text": [
      "also installing the dependencies ‘rprojroot’, ‘rstudioapi’, ‘diffobj’, ‘rematch2’, ‘brio’, ‘callr’, ‘desc’, ‘pkgload’, ‘praise’, ‘processx’, ‘ps’, ‘waldo’, ‘testthat’, ‘colorspace’, ‘minqa’, ‘nloptr’, ‘Rcpp’, ‘zoo’, ‘farver’, ‘labeling’, ‘munsell’, ‘R6’, ‘RColorBrewer’, ‘viridisLite’, ‘ellipsis’, ‘magrittr’, ‘pkgconfig’, ‘TMB’, ‘lme4’, ‘numDeriv’, ‘RcppEigen’, ‘estimability’, ‘mvtnorm’, ‘xtable’, ‘TH.data’, ‘sandwich’, ‘gtable’, ‘isoband’, ‘scales’, ‘tibble’, ‘withr’\n",
      "\n",
      "\n",
      "also installing the dependency ‘RcppEigen’\n",
      "\n",
      "\n"
     ]
    }
   ],
   "source": [
    "# Crear un directorio en tu espacio de usuario para los paquetes de R\n",
    "dir.create('~/R/x86_64-pc-linux-gnu-library/4.0', recursive = TRUE)\n",
    "\n",
    "# Instalar los paquetes en ese directorio\n",
    "install.packages(c(\"nlme\", \"glmmTMB\", \"emmeans\", \"multcomp\", \"MASS\", \"ggplot2\", \"patchwork\"), lib = '~/R/x86_64-pc-linux-gnu-library/4.0')\n",
    "install.packages('lme4', repos='http://cran.rstudio.com/', lib = '~/R/x86_64-pc-linux-gnu-library/4.0')\n",
    "install.packages(\"TMB\", type = \"source\", lib = '~/R/x86_64-pc-linux-gnu-library/4.0')\n",
    "\n",
    "# Asegurarse de que R use el directorio local para los paquetes\n",
    ".libPaths('~/R/x86_64-pc-linux-gnu-library/4.0')\n",
    "\n"
   ]
  },
  {
   "cell_type": "code",
   "execution_count": 3,
   "metadata": {
    "vscode": {
     "languageId": "r"
    }
   },
   "outputs": [
    {
     "name": "stderr",
     "output_type": "stream",
     "text": [
      "Loading required package: Matrix\n",
      "\n",
      "\n",
      "Attaching package: ‘nlme’\n",
      "\n",
      "\n",
      "The following object is masked from ‘package:lme4’:\n",
      "\n",
      "    lmList\n",
      "\n",
      "\n",
      "Warning message in checkMatrixPackageVersion():\n",
      "“Package version inconsistency detected.\n",
      "TMB was built with Matrix version 1.4.0\n",
      "Current Matrix version is 1.3.4\n",
      "Please re-install 'TMB' from source using install.packages('TMB', type = 'source') or ask CRAN for a binary version of 'TMB' matching CRAN's 'Matrix' package”\n",
      "Loading required package: mvtnorm\n",
      "\n",
      "Loading required package: survival\n",
      "\n",
      "Loading required package: TH.data\n",
      "\n",
      "Loading required package: MASS\n",
      "\n",
      "\n",
      "Attaching package: ‘TH.data’\n",
      "\n",
      "\n",
      "The following object is masked from ‘package:MASS’:\n",
      "\n",
      "    geyser\n",
      "\n",
      "\n",
      "\n",
      "Attaching package: ‘patchwork’\n",
      "\n",
      "\n",
      "The following object is masked from ‘package:MASS’:\n",
      "\n",
      "    area\n",
      "\n",
      "\n"
     ]
    }
   ],
   "source": [
    "\n",
    "\n",
    "# Carga de librerías\n",
    ".libPaths(c(\"/home/docker/R/x86_64-pc-linux-gnu-library/4.1\", .libPaths()))\n",
    "library(lme4)        # Modelos lineales mixtos\n",
    "#lme4::lmList\n",
    "library(nlme)        # Modelos lineales y no lineales mixtos\n",
    "library(glmmTMB)     # Modelos mixtos con distribuciones avanzadas\n",
    "library(emmeans)     # Estimación de medias marginales\n",
    "library(multcomp)    # Comparaciones múltiples\n",
    "library(MASS)        # Funciones estadísticas adicionales\n",
    "#MASS::geyser\n",
    "library(ggplot2)     # Visualización de datos\n",
    "library(patchwork)   # Combinación de gráficos\n",
    "#patchwork::area"
   ]
  },
  {
   "cell_type": "markdown",
   "metadata": {},
   "source": [
    "## 3. Fundamental Concepts <a name=\"concepts\"></a>\n",
    "\n",
    "> **Note:** Linear mixed models (LMM) combine fixed and random effects to capture both systematic relationships and unexplained variability in the data.\n",
    "\n",
    "Selecting the appropriate distribution is crucial to model the data correctly, including normal, Poisson, negative binomial, and zero-inflated distributions."
   ]
  },
  {
   "cell_type": "markdown",
   "metadata": {},
   "source": [
    "## 4. Analysis with Normal Distribution <a name=\"normal\"></a>\n",
    "\n",
    "In this analysis, we fit a linear mixed model using the normal distribution to model continuous variables. For example, we can study how an educational program affects students' scores."
   ]
  },
  {
   "cell_type": "code",
   "execution_count": 4,
   "metadata": {
    "vscode": {
     "languageId": "r"
    }
   },
   "outputs": [
    {
     "ename": "ERROR",
     "evalue": "Error: bad 'data': object 'data_normal' not found\n",
     "output_type": "error",
     "traceback": [
      "Error: bad 'data': object 'data_normal' not found\nTraceback:\n",
      "1. eval(mc, parent.frame(1L))",
      "2. eval(mc, parent.frame(1L))",
      "3. lme4::lFormula(formula = score ~ program + (1 | school), data = data_normal, \n .     control = structure(list(optimizer = \"nloptwrap\", restart_edge = TRUE, \n .         boundary.tol = 1e-05, calc.derivs = TRUE, use.last.params = FALSE, \n .         checkControl = list(check.nobs.vs.rankZ = \"ignore\", check.nobs.vs.nlev = \"stop\", \n .             check.nlev.gtreq.5 = \"ignore\", check.nlev.gtr.1 = \"stop\", \n .             check.nobs.vs.nRE = \"stop\", check.rankX = \"message+drop.cols\", \n .             check.scaleX = \"warning\", check.formula.LHS = \"stop\"), \n .         checkConv = list(check.conv.grad = list(action = \"warning\", \n .             tol = 0.002, relTol = NULL), check.conv.singular = list(\n .             action = \"message\", tol = 1e-04), check.conv.hess = list(\n .             action = \"warning\", tol = 1e-06)), optCtrl = list()), class = c(\"lmerControl\", \n .     \"merControl\")))",
      "4. checkFormulaData(formula, data, checkLHS = control$check.formula.LHS == \n .     \"stop\")",
      "5. stop(\"bad 'data': \", bad.data.msg, call. = FALSE)",
      "6. .handleSimpleError(function (cnd) \n . {\n .     watcher$capture_plot_and_output()\n .     cnd <- sanitize_call(cnd)\n .     watcher$push(cnd)\n .     switch(on_error, continue = invokeRestart(\"eval_continue\"), \n .         stop = invokeRestart(\"eval_stop\"), error = invokeRestart(\"eval_error\", \n .             cnd))\n . }, \"bad 'data': object 'data_normal' not found\", base::quote(NULL))"
     ]
    }
   ],
   "source": [
    "# Ajuste del modelo\n",
    "model_normal <- lmer(score ~ program + (1 | school), data = data_normal)\n",
    "\n",
    "# Resumen del modelo\n",
    "summary(model_normal)"
   ]
  },
  {
   "cell_type": "markdown",
   "metadata": {},
   "source": [
    "Interpretation: The coefficient associated with the program indicates whether there was a significant effect of the experimental program compared to the control group."
   ]
  },
  {
   "cell_type": "markdown",
   "metadata": {},
   "source": [
    "## 5. Analysis with Poisson Distribution <a name=\"poisson\"></a>\n",
    "\n",
    "The Poisson distribution is used to model event counts. Here we show how to fit a model using this distribution to analyze, for example, the number of defects on a production line."
   ]
  },
  {
   "cell_type": "code",
   "execution_count": null,
   "metadata": {
    "vscode": {
     "languageId": "r"
    }
   },
   "outputs": [],
   "source": [
    "# Ajuste del modelo de Poisson\n",
    "model_poisson <- glmer(defects ~ hours + (1 | machine), family = poisson, data = data_poisson)\n",
    "\n",
    "# Resumen del modelo\n",
    "summary(model_poisson)"
   ]
  },
  {
   "cell_type": "markdown",
   "metadata": {},
   "source": [
    "Interpretation: The model allows us to evaluate how operating hours affect the number of observed defects."
   ]
  },
  {
   "cell_type": "markdown",
   "metadata": {},
   "source": [
    "## 6. Analysis with Negative Binomial Distribution <a name=\"negative-binomial\"></a>\n",
    "\n",
    "The negative binomial distribution is useful when count data show overdispersion. We fit a negative binomial model to achieve a better fit than a Poisson model."
   ]
  },
  {
   "cell_type": "code",
   "execution_count": null,
   "metadata": {
    "vscode": {
     "languageId": "r"
    }
   },
   "outputs": [],
   "source": [
    "# Ajuste del modelo binomial negativo\n",
    "model_negbin <- glmer.nb(defects ~ hours + (1 | machine), data = data_poisson)\n",
    "\n",
    "# Resumen del modelo\n",
    "summary(model_negbin)"
   ]
  },
  {
   "cell_type": "markdown",
   "metadata": {},
   "source": [
    "Interpretation: This model allows us to handle the additional variability present in count data more effectively."
   ]
  },
  {
   "cell_type": "markdown",
   "metadata": {},
   "source": [
    "## 7. Analysis with Zero-Inflated Distribution <a name=\"zero-inflated\"></a>\n",
    "\n",
    "In some cases, count data contain an excess of zeros. The zero-inflated distribution lets us model these data more accurately. For example, the number of website visits where many users do not visit the site at all."
   ]
  },
  {
   "cell_type": "code",
   "execution_count": null,
   "metadata": {
    "vscode": {
     "languageId": "r"
    }
   },
   "outputs": [],
   "source": [
    "# Ajuste del modelo cero-inflado\n",
    "model_zero_inflated <- glmmTMB(visits ~ 1, ziformula = ~1, family = poisson, data = data_zero_inflated)\n",
    "\n",
    "# Resumen del modelo\n",
    "summary(model_zero_inflated)"
   ]
  },
  {
   "cell_type": "markdown",
   "metadata": {},
   "source": [
    "Interpretation: The model includes a component for the excess zeros, allowing a better representation of the data."
   ]
  },
  {
   "cell_type": "markdown",
   "metadata": {},
   "source": [
    "## 8. Post Hoc Tests and Marginal Effects <a name=\"post-hoc\"></a>\n",
    "\n",
    "Post hoc tests and marginal effects are useful for interpreting model results and making comparisons between groups. We use the `emmeans` library to estimate marginal means and perform multiple comparisons."
   ]
  },
  {
   "cell_type": "code",
   "execution_count": null,
   "metadata": {
    "vscode": {
     "languageId": "r"
    }
   },
   "outputs": [],
   "source": [
    "# Medias marginales para el modelo normal\n",
    "emmeans_normal <- emmeans(model_normal, ~ program)\n",
    "\n",
    "# Comparaciones múltiples\n",
    "contrast(emmeans_normal, method = \"pairwise\", adjust = \"tukey\")"
   ]
  },
  {
   "cell_type": "markdown",
   "metadata": {},
   "source": [
    "Interpretation: These tests help us better understand the differences between groups after fitting the model."
   ]
  },
  {
   "cell_type": "markdown",
   "metadata": {},
   "source": [
    "## 9. Conclusions <a name=\"conclusions\"></a>\n",
    "\n",
    "In this document, we have explored how to apply linear mixed models in R using different data distributions. Each distribution has its own characteristics, and it is important to choose the right one to model the data correctly.\n",
    "\n",
    "Linear mixed models allow us to capture both fixed and random effects, providing a more complete understanding of hierarchical or repeated measures data."
   ]
  },
  {
   "cell_type": "markdown",
   "metadata": {},
   "source": [
    "## 10. References <a name=\"references\"></a>\n",
    "\n",
    "- Pinheiro, J. C., & Bates, D. M. (2000). *Mixed-Effects Models in S and S-PLUS*. Springer.\n",
    "- Gelman, A., & Hill, J. (2007). *Data Analysis Using Regression and Multilevel/Hierarchical Models*. Cambridge University Press.\n",
    "- [lme4 package](https://cran.r-project.org/web/packages/lme4/index.html)\n",
    "- [glmmTMB package](https://cran.r-project.org/web/packages/glmmTMB/index.html)\n",
    "- [emmeans vignettes](https://cran.r-project.org/web/packages/emmeans/vignettes/emmeans.html)"
   ]
  }
 ],
 "metadata": {
  "kernelspec": {
   "display_name": "R",
   "language": "R",
   "name": "ir"
  },
  "language_info": {
   "codemirror_mode": "r",
   "file_extension": ".r",
   "mimetype": "text/x-r-source",
   "name": "R",
   "pygments_lexer": "r",
   "version": "4.1.2"
  }
 },
 "nbformat": 4,
 "nbformat_minor": 4
}
