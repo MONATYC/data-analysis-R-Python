{
 "cells": [
  {
   "cell_type": "markdown",
   "metadata": {},
   "source": [
    "# Modelos Lineales Mixtos en Python\n",
    "\n",
    "## Índice\n",
    "1. [Introducción](#intro)\n",
    "2. [Configuración del Entorno](#setup)\n",
    "3. [Conceptos Fundamentales](#concepts)\n",
    "4. [Análisis con Distribución Normal](#normal)\n",
    "5. [Análisis con Distribución de Poisson](#poisson)\n",
    "6. [Análisis con Distribución Binomial Negativa](#negative-binomial)\n",
    "7. [Análisis con Distribución Cero-Inflada](#zero-inflated)\n",
    "8. [Pruebas Post Hoc y Efectos Marginales](#post-hoc)\n",
    "9. [Conclusiones](#conclusions)\n",
    "10. [Referencias](#references)"
   ]
  },
  {
   "cell_type": "markdown",
   "metadata": {},
   "source": [
    "## 1. Introducción <a id='intro'></a>\n",
    "\n",
    "Los modelos lineales mixtos son herramientas estadísticas poderosas para analizar datos que presentan estructuras complejas, como medidas repetidas o datos jerárquicos. En este documento, exploraremos cómo implementar y interpretar estos modelos en Python, utilizando diferentes distribuciones de datos: normal, Poisson, binomial negativa y cero-inflada."
   ]
  },
  {
   "cell_type": "markdown",
   "metadata": {},
   "source": [
    "## 2. Configuración del Entorno <a id='setup'></a>\n",
    "\n",
    "Primero, instalamos los paquetes necesarios y importamos las librerías requeridas."
   ]
  },
  {
   "cell_type": "code",
   "execution_count": 10,
   "metadata": {},
   "outputs": [
    {
     "name": "stdout",
     "output_type": "stream",
     "text": [
      "Requirement already satisfied: statsmodels in /home/docker/.local/lib/python3.8/site-packages (0.14.1)\n",
      "Requirement already satisfied: pandas in /home/docker/.local/lib/python3.8/site-packages (2.0.3)\n",
      "Requirement already satisfied: numpy in /home/docker/.local/lib/python3.8/site-packages (1.24.4)\n",
      "Requirement already satisfied: matplotlib in /home/docker/.local/lib/python3.8/site-packages (3.7.5)\n",
      "Requirement already satisfied: seaborn in /home/docker/.local/lib/python3.8/site-packages (0.13.2)\n",
      "Requirement already satisfied: scipy!=1.9.2,>=1.4 in /home/docker/.local/lib/python3.8/site-packages (from statsmodels) (1.10.1)\n",
      "Requirement already satisfied: patsy>=0.5.4 in /home/docker/.local/lib/python3.8/site-packages (from statsmodels) (0.5.6)\n",
      "Requirement already satisfied: packaging>=21.3 in /usr/local/lib/python3.8/dist-packages (from statsmodels) (24.1)\n",
      "Requirement already satisfied: tzdata>=2022.1 in /home/docker/.local/lib/python3.8/site-packages (from pandas) (2024.2)\n",
      "Requirement already satisfied: pytz>=2020.1 in /usr/local/lib/python3.8/dist-packages (from pandas) (2024.2)\n",
      "Requirement already satisfied: python-dateutil>=2.8.2 in /usr/local/lib/python3.8/dist-packages (from pandas) (2.9.0.post0)\n",
      "Requirement already satisfied: pillow>=6.2.0 in /home/docker/.local/lib/python3.8/site-packages (from matplotlib) (10.4.0)\n",
      "Requirement already satisfied: fonttools>=4.22.0 in /home/docker/.local/lib/python3.8/site-packages (from matplotlib) (4.54.1)\n",
      "Requirement already satisfied: importlib-resources>=3.2.0; python_version < \"3.10\" in /usr/local/lib/python3.8/dist-packages (from matplotlib) (6.4.5)\n",
      "Requirement already satisfied: kiwisolver>=1.0.1 in /home/docker/.local/lib/python3.8/site-packages (from matplotlib) (1.4.7)\n",
      "Requirement already satisfied: pyparsing>=2.3.1 in /home/docker/.local/lib/python3.8/site-packages (from matplotlib) (3.1.4)\n",
      "Requirement already satisfied: cycler>=0.10 in /home/docker/.local/lib/python3.8/site-packages (from matplotlib) (0.12.1)\n",
      "Requirement already satisfied: contourpy>=1.0.1 in /home/docker/.local/lib/python3.8/site-packages (from matplotlib) (1.1.1)\n",
      "Requirement already satisfied: six in /usr/local/lib/python3.8/dist-packages (from patsy>=0.5.4->statsmodels) (1.16.0)\n",
      "Requirement already satisfied: zipp>=3.1.0; python_version < \"3.10\" in /usr/local/lib/python3.8/dist-packages (from importlib-resources>=3.2.0; python_version < \"3.10\"->matplotlib) (3.20.2)\n",
      "Librerías importadas correctamente.\n"
     ]
    }
   ],
   "source": [
    "# Instalar las librerías necesarias\n",
    "!pip install --user statsmodels pandas numpy matplotlib seaborn\n",
    "\n",
    "# Verificar y agregar la ruta de instalación de paquetes locales al sys.path\n",
    "import sys\n",
    "package_path = '/home/docker/.local/lib/python3.8/site-packages'\n",
    "if package_path not in sys.path:\n",
    "    sys.path.append(package_path)\n",
    "\n",
    "# Ahora intentamos importar las librerías\n",
    "import statsmodels.api as sm\n",
    "import statsmodels.formula.api as smf\n",
    "import pandas as pd\n",
    "import numpy as np\n",
    "import matplotlib.pyplot as plt\n",
    "import seaborn as sns\n",
    "\n",
    "print(\"Librerías importadas correctamente.\")\n",
    "\n"
   ]
  },
  {
   "cell_type": "markdown",
   "metadata": {},
   "source": [
    "## 3. Conceptos Fundamentales <a id='concepts'></a>\n",
    "\n",
    "> **Nota:** Los modelos lineales mixtos (MLM) combinan efectos fijos y aleatorios para capturar tanto las relaciones sistemáticas como la variabilidad no explicada en los datos.\n",
    "\n",
    "La elección de la distribución adecuada es crucial para modelar correctamente los datos, incluyendo distribuciones normal, Poisson, binomial negativa y cero-inflada."
   ]
  },
  {
   "cell_type": "markdown",
   "metadata": {},
   "source": [
    "## 4. Análisis con Distribución Normal <a id='normal'></a>\n",
    "\n",
    "En este análisis, ajustamos un modelo lineal mixto utilizando la distribución normal para modelar variables continuas. Por ejemplo, podemos estudiar cómo un programa educativo afecta los puntajes de los estudiantes."
   ]
  },
  {
   "cell_type": "code",
   "execution_count": 11,
   "metadata": {},
   "outputs": [
    {
     "name": "stdout",
     "output_type": "stream",
     "text": [
      "              Mixed Linear Model Regression Results\n",
      "==================================================================\n",
      "Model:                 MixedLM    Dependent Variable:    score    \n",
      "No. Observations:      100        Method:                REML     \n",
      "No. Groups:            3          Scale:                 86.8867  \n",
      "Min. group size:       32         Log-Likelihood:        -361.7286\n",
      "Max. group size:       35         Converged:             Yes      \n",
      "Mean group size:       33.3                                       \n",
      "------------------------------------------------------------------\n",
      "                        Coef.  Std.Err.   z    P>|z| [0.025 0.975]\n",
      "------------------------------------------------------------------\n",
      "Intercept               75.297    1.257 59.908 0.000 72.834 77.761\n",
      "program[T.Experimental] -0.617    1.873 -0.329 0.742 -4.289  3.055\n",
      "school Var               0.000                                    \n",
      "==================================================================\n",
      "\n"
     ]
    },
    {
     "name": "stderr",
     "output_type": "stream",
     "text": [
      "/home/docker/.local/lib/python3.8/site-packages/statsmodels/regression/mixed_linear_model.py:1635: UserWarning: Random effects covariance is singular\n",
      "  warnings.warn(msg)\n",
      "/home/docker/.local/lib/python3.8/site-packages/statsmodels/regression/mixed_linear_model.py:2238: ConvergenceWarning: The MLE may be on the boundary of the parameter space.\n",
      "  warnings.warn(msg, ConvergenceWarning)\n",
      "/home/docker/.local/lib/python3.8/site-packages/statsmodels/regression/mixed_linear_model.py:2262: ConvergenceWarning: The Hessian matrix at the estimated parameter values is not positive definite.\n",
      "  warnings.warn(msg, ConvergenceWarning)\n"
     ]
    }
   ],
   "source": [
    "# Creación de datos simulados\n",
    "data_normal = pd.DataFrame({\n",
    "    'score': np.random.normal(75, 10, 100),\n",
    "    'program': np.random.choice(['Control', 'Experimental'], size=100),\n",
    "    'school': np.random.choice(['Escuela_1', 'Escuela_2', 'Escuela_3'], size=100)\n",
    "})\n",
    "\n",
    "# Ajuste del modelo lineal mixto\n",
    "model_normal = smf.mixedlm(\"score ~ program\", data_normal, groups=\"school\")\n",
    "result_normal = model_normal.fit()\n",
    "\n",
    "# Resumen del modelo\n",
    "print(result_normal.summary())"
   ]
  },
  {
   "cell_type": "markdown",
   "metadata": {},
   "source": [
    "Interpretación: El coeficiente asociado al programa indica si hubo un efecto significativo del programa experimental en comparación con el grupo de control."
   ]
  },
  {
   "cell_type": "markdown",
   "metadata": {},
   "source": [
    "## 5. Análisis con Distribución de Poisson <a id='poisson'></a>\n",
    "\n",
    "La distribución de Poisson se utiliza para modelar conteos de eventos. Aquí se muestra cómo ajustar un modelo utilizando esta distribución para analizar, por ejemplo, el número de defectos en una línea de producción."
   ]
  },
  {
   "cell_type": "code",
   "execution_count": 12,
   "metadata": {},
   "outputs": [
    {
     "name": "stdout",
     "output_type": "stream",
     "text": [
      "Optimization terminated successfully.\n",
      "         Current function value: 1.700677\n",
      "         Iterations 4\n",
      "                          Poisson Regression Results                          \n",
      "==============================================================================\n",
      "Dep. Variable:                defects   No. Observations:                  100\n",
      "Model:                        Poisson   Df Residuals:                       98\n",
      "Method:                           MLE   Df Model:                            1\n",
      "Date:                Wed, 16 Oct 2024   Pseudo R-squ.:               0.0003170\n",
      "Time:                        16:30:38   Log-Likelihood:                -170.07\n",
      "converged:                       True   LL-Null:                       -170.12\n",
      "Covariance Type:            nonrobust   LLR p-value:                    0.7426\n",
      "==============================================================================\n",
      "                 coef    std err          z      P>|z|      [0.025      0.975]\n",
      "------------------------------------------------------------------------------\n",
      "Intercept      0.7124      0.202      3.522      0.000       0.316       1.109\n",
      "hours          0.0077      0.023      0.329      0.742      -0.038       0.054\n",
      "==============================================================================\n"
     ]
    }
   ],
   "source": [
    "# Creación de datos simulados\n",
    "data_poisson = pd.DataFrame({\n",
    "    'defects': np.random.poisson(2, 100),\n",
    "    'hours': np.random.poisson(8, 100),\n",
    "    'machine': np.random.choice(['Máquina_1', 'Máquina_2', 'Máquina_3'], size=100)\n",
    "})\n",
    "\n",
    "# Ajuste del modelo de Poisson\n",
    "model_poisson = smf.poisson(\"defects ~ hours\", data_poisson).fit()\n",
    "\n",
    "# Resumen del modelo\n",
    "print(model_poisson.summary())"
   ]
  },
  {
   "cell_type": "markdown",
   "metadata": {},
   "source": [
    "Interpretación: El modelo nos permite evaluar cómo las horas de operación afectan el número de defectos observados."
   ]
  },
  {
   "cell_type": "markdown",
   "metadata": {},
   "source": [
    "## 6. Análisis con Distribución Binomial Negativa <a id='negative-binomial'></a>\n",
    "\n",
    "La distribución binomial negativa es útil cuando existe sobredispersión en los datos de conteo. Ajustamos un modelo binomial negativo para mejorar el ajuste respecto a un modelo de Poisson."
   ]
  },
  {
   "cell_type": "code",
   "execution_count": null,
   "metadata": {},
   "outputs": [],
   "source": [
    "# Ajuste del modelo binomial negativo\n",
    "import statsmodels.discrete.discrete_model as smd\n",
    "\n",
    "model_negbin = smd.NegativeBinomial(data_poisson['defects'], sm.add_constant(data_poisson['hours'])).fit()\n",
    "\n",
    "# Resumen del modelo\n",
    "print(model_negbin.summary())"
   ]
  },
  {
   "cell_type": "markdown",
   "metadata": {},
   "source": [
    "Interpretación: Este modelo permite manejar mejor la variabilidad adicional presente en los datos de conteo."
   ]
  },
  {
   "cell_type": "markdown",
   "metadata": {},
   "source": [
    "## 7. Análisis con Distribución Cero-Inflada <a id='zero-inflated'></a>\n",
    "\n",
    "En algunos casos, los datos de conteo contienen un exceso de ceros. La distribución cero-inflada nos permite modelar estos datos de manera más precisa. Por ejemplo, el número de visitas a un sitio web donde muchos usuarios no visitan el sitio."
   ]
  },
  {
   "cell_type": "code",
   "execution_count": null,
   "metadata": {},
   "outputs": [],
   "source": [
    "# Instalación de paquetes necesarios (si es necesario)\n",
    "# !pip install statsmodels\n",
    "\n",
    "# Ajuste del modelo cero-inflado (utilizando ZeroInflatedPoisson de statsmodels)\n",
    "from statsmodels.discrete.count_model import ZeroInflatedPoisson\n",
    "\n",
    "model_zero_inflated = ZeroInflatedPoisson(data_poisson['defects'], sm.add_constant(data_poisson['hours'])).fit()\n",
    "\n",
    "# Resumen del modelo\n",
    "print(model_zero_inflated.summary())"
   ]
  },
  {
   "cell_type": "markdown",
   "metadata": {},
   "source": [
    "Interpretación: El modelo incluye un componente para el exceso de ceros, permitiendo una mejor representación de los datos."
   ]
  },
  {
   "cell_type": "markdown",
   "metadata": {},
   "source": [
    "## 8. Pruebas Post Hoc y Efectos Marginales <a id='post-hoc'></a>\n",
    "\n",
    "Las pruebas post hoc y los efectos marginales son útiles para interpretar los resultados de los modelos y realizar comparaciones entre grupos. Utilizamos la librería `statsmodels` para realizar estas estimaciones y comparaciones múltiples."
   ]
  },
  {
   "cell_type": "code",
   "execution_count": null,
   "metadata": {},
   "outputs": [],
   "source": [
    "# Ajuste de medias marginales utilizando statsmodels\n",
    "import statsmodels.stats.multicomp as multi\n",
    "\n",
    "# Ajuste ANOVA y comparaciones post hoc\n",
    "anova_results = sm.stats.anova_lm(result_normal, typ=2)\n",
    "print(anova_results)"
   ]
  },
  {
   "cell_type": "markdown",
   "metadata": {},
   "source": [
    "Interpretación: Estas pruebas nos ayudan a entender mejor las diferencias entre los grupos después del ajuste del modelo."
   ]
  },
  {
   "cell_type": "markdown",
   "metadata": {},
   "source": [
    "## 9. Conclusiones <a id='conclusions'></a>\n",
    "\n",
    "En este documento, hemos explorado cómo aplicar modelos lineales mixtos en Python utilizando diferentes distribuciones de datos. Cada distribución tiene sus propias características y es importante seleccionar la adecuada para modelar correctamente los datos.\n",
    "\n",
    "Los modelos lineales mixtos nos permiten capturar tanto efectos fijos como aleatorios, proporcionando una comprensión más completa de los datos jerárquicos o con medidas repetidas."
   ]
  },
  {
   "cell_type": "markdown",
   "metadata": {},
   "source": [
    "## 10. Referencias <a id='references'></a>\n",
    "\n",
    "- Pinheiro, J. C., & Bates, D. M. (2000). *Mixed-Effects Models in S and S-PLUS*. Springer.\n",
    "- Gelman, A., & Hill, J. (2007). *Data Analysis Using Regression and Multilevel/Hierarchical Models*. Cambridge University Press.\n",
    "- [Statsmodels Documentation](https://www.statsmodels.org/stable/index.html)\n",
    "- [Pandas Documentation](https://pandas.pydata.org/)\n",
    "- [Numpy Documentation](https://numpy.org/)"
   ]
  }
 ],
 "metadata": {
  "kernelspec": {
   "display_name": "Python 3",
   "language": "python",
   "name": "python3"
  },
  "language_info": {
   "codemirror_mode": {
    "name": "ipython",
    "version": 3
   },
   "file_extension": ".py",
   "mimetype": "text/x-python",
   "name": "python",
   "nbconvert_exporter": "python",
   "pygments_lexer": "ipython3",
   "version": "3.8.10"
  }
 },
 "nbformat": 4,
 "nbformat_minor": 4
}
