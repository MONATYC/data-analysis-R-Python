{
 "cells": [
  {
   "cell_type": "markdown",
   "metadata": {},
   "source": [
    "# Modelos Lineales Mixtos en R\n",
    "\n",
    "## Índice\n",
    "1. [Introducción](#intro)\n",
    "2. [Configuración del Entorno](#setup)\n",
    "3. [Conceptos Fundamentales](#concepts)\n",
    "4. [Análisis con Distribución Normal](#normal)\n",
    "5. [Análisis con Distribución de Poisson](#poisson)\n",
    "6. [Análisis con Distribución Binomial Negativa](#negative-binomial)\n",
    "7. [Análisis con Distribución Cero-Inflada](#zero-inflated)\n",
    "8. [Pruebas Post Hoc y Efectos Marginales](#post-hoc)\n",
    "9. [Conclusiones](#conclusions)\n",
    "10. [Referencias](#references)"
   ]
  },
  {
   "cell_type": "markdown",
   "metadata": {},
   "source": [
    "## 1. Introducción <a name=\"intro\"></a>\n",
    "\n",
    "Los modelos lineales mixtos son herramientas estadísticas poderosas para analizar datos que presentan estructuras complejas, como medidas repetidas o datos jerárquicos. En este documento, exploraremos cómo implementar y interpretar estos modelos en R, utilizando diferentes distribuciones de datos: normal, Poisson, binomial negativa y cero-inflada."
   ]
  },
  {
   "cell_type": "markdown",
   "metadata": {},
   "source": [
    "## 2. Configuración del Entorno <a name=\"setup\"></a>\n",
    "\n",
    "Primero, instalamos y cargamos las librerías necesarias:"
   ]
  },
  {
   "cell_type": "code",
   "execution_count": null,
   "metadata": {},
   "outputs": [],
   "source": [
    "# Instalación de paquetes (descomentar si es necesario)\n",
    "# install.packages(c(\"lme4\", \"nlme\", \"glmmTMB\", \"emmeans\", \"multcomp\", \"MASS\", \"ggplot2\", \"patchwork\"))\n",
    "\n",
    "# Carga de librerías\n",
    "library(lme4)        # Modelos lineales mixtos\n",
    "library(nlme)        # Modelos lineales y no lineales mixtos\n",
    "library(glmmTMB)     # Modelos mixtos con distribuciones avanzadas\n",
    "library(emmeans)     # Estimación de medias marginales\n",
    "library(multcomp)    # Comparaciones múltiples\n",
    "library(MASS)        # Funciones estadísticas adicionales\n",
    "library(ggplot2)     # Visualización de datos\n",
    "library(patchwork)   # Combinación de gráficos"
   ]
  },
  {
   "cell_type": "markdown",
   "metadata": {},
   "source": [
    "## 3. Conceptos Fundamentales <a name=\"concepts\"></a>\n",
    "\n",
    "> **Nota:** Los modelos lineales mixtos (MLM) combinan efectos fijos y aleatorios para capturar tanto las relaciones sistemáticas como la variabilidad no explicada en los datos.\n",
    "\n",
    "La elección de la distribución adecuada es crucial para modelar correctamente los datos, incluyendo distribuciones normal, Poisson, binomial negativa y cero-inflada."
   ]
  },
  {
   "cell_type": "markdown",
   "metadata": {},
   "source": [
    "## 4. Análisis con Distribución Normal <a name=\"normal\"></a>\n",
    "\n",
    "En este análisis, ajustamos un modelo lineal mixto utilizando la distribución normal para modelar variables continuas. Por ejemplo, podemos estudiar cómo un programa educativo afecta los puntajes de los estudiantes."
   ]
  },
  {
   "cell_type": "code",
   "execution_count": null,
   "metadata": {},
   "outputs": [],
   "source": [
    "# Ajuste del modelo\n",
    "model_normal <- lmer(score ~ program + (1 | school), data = data_normal)\n",
    "\n",
    "# Resumen del modelo\n",
    "summary(model_normal)"
   ]
  },
  {
   "cell_type": "markdown",
   "metadata": {},
   "source": [
    "Interpretación: El coeficiente asociado al programa indica si hubo un efecto significativo del programa experimental en comparación con el grupo de control."
   ]
  },
  {
   "cell_type": "markdown",
   "metadata": {},
   "source": [
    "## 5. Análisis con Distribución de Poisson <a name=\"poisson\"></a>\n",
    "\n",
    "La distribución de Poisson se utiliza para modelar conteos de eventos. Aquí se muestra cómo ajustar un modelo utilizando esta distribución para analizar, por ejemplo, el número de defectos en una línea de producción."
   ]
  },
  {
   "cell_type": "code",
   "execution_count": null,
   "metadata": {},
   "outputs": [],
   "source": [
    "# Ajuste del modelo de Poisson\n",
    "model_poisson <- glmer(defects ~ hours + (1 | machine), family = poisson, data = data_poisson)\n",
    "\n",
    "# Resumen del modelo\n",
    "summary(model_poisson)"
   ]
  },
  {
   "cell_type": "markdown",
   "metadata": {},
   "source": [
    "Interpretación: El modelo nos permite evaluar cómo las horas de operación afectan el número de defectos observados."
   ]
  },
  {
   "cell_type": "markdown",
   "metadata": {},
   "source": [
    "## 6. Análisis con Distribución Binomial Negativa <a name=\"negative-binomial\"></a>\n",
    "\n",
    "La distribución binomial negativa es útil cuando existe sobredispersión en los datos de conteo. Ajustamos un modelo binomial negativo para mejorar el ajuste respecto a un modelo de Poisson."
   ]
  },
  {
   "cell_type": "code",
   "execution_count": null,
   "metadata": {},
   "outputs": [],
   "source": [
    "# Ajuste del modelo binomial negativo\n",
    "model_negbin <- glmer.nb(defects ~ hours + (1 | machine), data = data_poisson)\n",
    "\n",
    "# Resumen del modelo\n",
    "summary(model_negbin)"
   ]
  },
  {
   "cell_type": "markdown",
   "metadata": {},
   "source": [
    "Interpretación: Este modelo permite manejar mejor la variabilidad adicional presente en los datos de conteo."
   ]
  },
  {
   "cell_type": "markdown",
   "metadata": {},
   "source": [
    "## 7. Análisis con Distribución Cero-Inflada <a name=\"zero-inflated\"></a>\n",
    "\n",
    "En algunos casos, los datos de conteo contienen un exceso de ceros. La distribución cero-inflada nos permite modelar estos datos de manera más precisa. Por ejemplo, el número de visitas a un sitio web donde muchos usuarios no visitan el sitio."
   ]
  },
  {
   "cell_type": "code",
   "execution_count": null,
   "metadata": {},
   "outputs": [],
   "source": [
    "# Ajuste del modelo cero-inflado\n",
    "model_zero_inflated <- glmmTMB(visits ~ 1, ziformula = ~1, family = poisson, data = data_zero_inflated)\n",
    "\n",
    "# Resumen del modelo\n",
    "summary(model_zero_inflated)"
   ]
  },
  {
   "cell_type": "markdown",
   "metadata": {},
   "source": [
    "Interpretación: El modelo incluye un componente para el exceso de ceros, permitiendo una mejor representación de los datos."
   ]
  },
  {
   "cell_type": "markdown",
   "metadata": {},
   "source": [
    "## 8. Pruebas Post Hoc y Efectos Marginales <a name=\"post-hoc\"></a>\n",
    "\n",
    "Las pruebas post hoc y los efectos marginales son útiles para interpretar los resultados de los modelos y realizar comparaciones entre grupos. Utilizamos la librería `emmeans` para estimar medias marginales y realizar comparaciones múltiples."
   ]
  },
  {
   "cell_type": "code",
   "execution_count": null,
   "metadata": {},
   "outputs": [],
   "source": [
    "# Medias marginales para el modelo normal\n",
    "emmeans_normal <- emmeans(model_normal, ~ program)\n",
    "\n",
    "# Comparaciones múltiples\n",
    "contrast(emmeans_normal, method = \"pairwise\", adjust = \"tukey\")"
   ]
  },
  {
   "cell_type": "markdown",
   "metadata": {},
   "source": [
    "Interpretación: Estas pruebas nos ayudan a entender mejor las diferencias entre los grupos después del ajuste del modelo."
   ]
  },
  {
   "cell_type": "markdown",
   "metadata": {},
   "source": [
    "## 9. Conclusiones <a name=\"conclusions\"></a>\n",
    "\n",
    "En este documento, hemos explorado cómo aplicar modelos lineales mixtos en R utilizando diferentes distribuciones de datos. Cada distribución tiene sus propias características y es importante seleccionar la adecuada para modelar correctamente los datos.\n",
    "\n",
    "Los modelos lineales mixtos nos permiten capturar tanto efectos fijos como aleatorios, proporcionando una comprensión más completa de los datos jerárquicos o con medidas repetidas."
   ]
  },
  {
   "cell_type": "markdown",
   "metadata": {},
   "source": [
    "## 10. Referencias <a name=\"references\"></a>\n",
    "\n",
    "- Pinheiro, J. C., & Bates, D. M. (2000). *Mixed-Effects Models in S and S-PLUS*. Springer.\n",
    "- Gelman, A., & Hill, J. (2007). *Data Analysis Using Regression and Multilevel/Hierarchical Models*. Cambridge University Press.\n",
    "- [Librería lme4](https://cran.r-project.org/web/packages/lme4/index.html)\n",
    "- [Librería glmmTMB](https://cran.r-project.org/web/packages/glmmTMB/index.html)\n",
    "- [Vignettes de emmeans](https://cran.r-project.org/web/packages/emmeans/vignettes/emmeans.html)"
   ]
  }
 ],
 "metadata": {
  "kernelspec": {
   "display_name": "R",
   "language": "R",
   "name": "ir"
  },
  "language_info": {
   "codemirror_mode": "r",
   "file_extension": ".r",
   "mimetype": "text/x-r-source",
   "name": "R",
   "pygments_lexer": "r",
   "version": "4.1.0"
  }
 },
 "nbformat": 4,
 "nbformat_minor": 4
}
